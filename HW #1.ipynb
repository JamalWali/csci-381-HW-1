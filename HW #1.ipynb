{
 "cells": [
  {
   "cell_type": "code",
   "execution_count": 16,
   "id": "d751c09a",
   "metadata": {},
   "outputs": [
    {
     "name": "stdout",
     "output_type": "stream",
     "text": [
      "Requirement already satisfied: python-docx in c:\\users\\computer\\anaconda3\\lib\\site-packages (1.1.2)\n",
      "Requirement already satisfied: typing-extensions>=4.9.0 in c:\\users\\computer\\anaconda3\\lib\\site-packages (from python-docx) (4.13.2)\n",
      "Requirement already satisfied: lxml>=3.1.0 in c:\\users\\computer\\anaconda3\\lib\\site-packages (from python-docx) (4.6.3)\n",
      "high,high,2,4,med,low,unacc\n"
     ]
    }
   ],
   "source": [
    "!pip install python-docx\n",
    "import pandas as pd\n",
    "from docx import Document\n",
    "doc = Document(\"cars-sample35.docx\")\n",
    "print(doc.paragraphs[0].text)"
   ]
  },
  {
   "cell_type": "code",
   "execution_count": 36,
   "id": "a28a9083",
   "metadata": {},
   "outputs": [
    {
     "name": "stdout",
     "output_type": "stream",
     "text": [
      "high,high,2,4,med,low,unacc\n",
      "high,high,4,more,small,high,acc\n",
      "high,high,4,more,big,low,unacc\n",
      "high,low,2,more,big,high,acc\n",
      "vhigh,low,3,2,med,med,unacc\n",
      "low,high,2,2,small,low,unacc\n",
      "med,med,4,more,med,high,vgood\n",
      "low,low,3,2,big,med,unacc\n",
      "vhigh,low,2,2,small,low,unacc\n",
      "vhigh,high,4,4,med,low,unacc\n",
      "low,low,2,2,med,med,unacc\n",
      "vhigh,low,4,more,small,high,acc\n",
      "high,low,2,4,big,med,acc\n",
      "low,vhigh,3,more,big,low,unacc\n",
      "high,low,5more,2,big,med,unacc\n",
      "vhigh,high,2,more,med,high,unacc\n",
      "med,med,2,2,small,low,unacc\n",
      "high,low,5more,4,med,high,acc\n",
      "low,low,3,more,med,high,vgood\n",
      "low,low,2,2,big,med,unacc\n",
      "med,high,4,2,big,high,unacc\n",
      "low,low,2,2,small,high,unacc\n",
      "vhigh,high,5more,4,med,med,unacc\n",
      "med,vhigh,2,2,big,low,unacc\n",
      "low,vhigh,4,4,big,low,unacc\n",
      "vhigh,low,3,more,big,low,unacc\n",
      "med,vhigh,3,4,small,low,unacc\n",
      "high,high,3,4,med,med,unacc\n",
      "low,high,5more,2,big,low,unacc\n",
      "med,high,5more,2,med,med,unacc\n",
      "high,low,3,4,med,high,acc\n",
      "high,vhigh,5more,4,med,med,unacc\n",
      "low,low,5more,2,med,low,unacc\n",
      "vhigh,vhigh,4,2,big,high,unacc\n",
      "high,low,3,2,big,high,unacc\n"
     ]
    }
   ],
   "source": [
    "for row in doc.paragraphs:\n",
    "    print(row.text)"
   ]
  },
  {
   "cell_type": "code",
   "execution_count": 56,
   "id": "65d71bcd",
   "metadata": {},
   "outputs": [],
   "source": [
    "# 1. Upload the data to github. Upload the data to python using Pandas and give it headers.\n",
    "header = [price,maintenance_cost,number_of_doors,number_of_passenger,luggage_capacity,safety_rating,classification_of_vehicle]"
   ]
  },
  {
   "cell_type": "code",
   "execution_count": 57,
   "id": "45cb333c",
   "metadata": {},
   "outputs": [],
   "source": [
    "# 2. Extract these seven attributes from each line of the file and create seven distinct Python list objects comprised solely of the values you extracted for a given attribute. In other words, you should have lists of prices, maintenance costs, number of doors, etc.\n",
    "price = []\n",
    "maintenance_cost = []\n",
    "number_of_doors = []\n",
    "number_of_passenger = []\n",
    "luggage_capacity = []\n",
    "safety_rating = []\n",
    "classification_of_vehicle = []\n",
    "\n",
    "#iterate through each row\n",
    "for row in doc.paragraphs:\n",
    "    #save the string in a list splitted by the comma\n",
    "    data = row.text.split(',')\n",
    "    #print(data)\n",
    "    price.append(data[0])\n",
    "    maintenance_cost.append(data[1])\n",
    "    number_of_doors.append(data[2])\n",
    "    number_of_passenger.append(data[3])\n",
    "    luggage_capacity.append(data[4])\n",
    "    safety_rating.append(data[5])\n",
    "    classification_of_vehicle.append(data[6])"
   ]
  },
  {
   "cell_type": "code",
   "execution_count": 58,
   "id": "36ec767c",
   "metadata": {},
   "outputs": [
    {
     "name": "stdout",
     "output_type": "stream",
     "text": [
      "high\n"
     ]
    }
   ],
   "source": [
    "print(price[2])"
   ]
  },
  {
   "cell_type": "code",
   "execution_count": 59,
   "id": "ddf0faf4",
   "metadata": {
    "scrolled": true
   },
   "outputs": [
    {
     "name": "stdout",
     "output_type": "stream",
     "text": [
      "[6, 16, 20, 23, 26, 29]\n"
     ]
    }
   ],
   "source": [
    "# 3. Find the list index values of each automobile having a “price” rating of \"med\". Create a new list object with your result. HINT: you can accomplish this task by searching the list of price values you created earlier. Be sure to print your results.\n",
    "med_price_cars = []\n",
    "med_price_cars = [i for i, val in enumerate(price) if val == 'med']\n",
    "print(med_price_cars)"
   ]
  },
  {
   "cell_type": "code",
   "execution_count": 61,
   "id": "e278e52a",
   "metadata": {},
   "outputs": [
    {
     "name": "stdout",
     "output_type": "stream",
     "text": [
      "['more', '2', '2', '2', '4', '2']\n"
     ]
    }
   ],
   "source": [
    "# 4.Find the \"number of passengers\" value for each auto having a \"price\" value of \"med\". Create a new list to store your findings and be sure to print your results\n",
    "num_of_passenger_med_price_cars = [ number_of_passenger[i] for i in med_price_cars ]\n",
    "print(num_of_passenger_med_price_cars)"
   ]
  },
  {
   "cell_type": "code",
   "execution_count": 69,
   "id": "401839d8",
   "metadata": {},
   "outputs": [
    {
     "name": "stdout",
     "output_type": "stream",
     "text": [
      "[0, 1, 2, 3, 12, 14, 17, 27, 30, 31, 34]\n"
     ]
    }
   ],
   "source": [
    "#5. Find the index value for each automobile having a “price” value of \"high\" and a “maintenance” value that is not \"low\". Create a new list to store your findings and be sure to print your results\n",
    "#first create the high index list \n",
    "high_price = [i for i, val in enumerate(price) if val == 'high']\n",
    "high_price_not_low_maintenance = [i for i in high_price if maintenance_cost != \"low\"]\n",
    "print(high_price_not_low_maintenance)"
   ]
  },
  {
   "cell_type": "code",
   "execution_count": 70,
   "id": "cfebb093",
   "metadata": {},
   "outputs": [
    {
     "name": "stdout",
     "output_type": "stream",
     "text": [
      "[6, 16, 20, 23, 26, 29]\n"
     ]
    }
   ],
   "source": [
    "# 6. Find the list index values of each automobile having a price rating of \"med using a list comprehension instead of a basic for or while loop. The list comprehension should create a new list containing your result. Be sure to print your results to the screen.\n",
    "med_price = [i for i, val in enumerate(price) if val == \"med\"]\n",
    "print(med_price)"
   ]
  },
  {
   "cell_type": "code",
   "execution_count": 71,
   "id": "e0a8520b",
   "metadata": {},
   "outputs": [
    {
     "name": "stdout",
     "output_type": "stream",
     "text": [
      "['more', '2', '2', '2', '4', '2']\n"
     ]
    }
   ],
   "source": [
    "#7. Find the \"number of passengers\" value for each auto having a \"price\" value of \"med\" using a list comprehension instead of a basic for or while loop. The list comprehension should create a new list containing your findings. Be sure to print your results to the screen.\n",
    "num_of_passenger_of_med_price = [ number_of_passenger[i] for i in med_price ]\n",
    "print(num_of_passenger_of_med_price)"
   ]
  },
  {
   "cell_type": "code",
   "execution_count": 72,
   "id": "694747b9",
   "metadata": {},
   "outputs": [
    {
     "name": "stdout",
     "output_type": "stream",
     "text": [
      "[0, 1, 2, 3, 12, 14, 17, 27, 30, 31, 34]\n"
     ]
    }
   ],
   "source": [
    "# 8. Find the index value for each automobile having a price value of \"high\" and a maintenance value that is not \"low\" using a list comprehension. The list comprehension should create a new list containing your findings. Be sure to print your results to the screen.\n",
    "high_price = [i for i, val in enumerate(price) if val == 'high']\n",
    "high_price_not_low_maintenance = [i for i in high_price if maintenance_cost != \"low\"]\n",
    "print(high_price_not_low_maintenance)"
   ]
  },
  {
   "cell_type": "code",
   "execution_count": 74,
   "id": "4292da4b",
   "metadata": {},
   "outputs": [
    {
     "name": "stdout",
     "output_type": "stream",
     "text": [
      "[1, 2, 3, 'A', 'B', 'C', 4, 5, 'D', 'E']\n"
     ]
    }
   ],
   "source": [
    "# Nested List Comprehension (no file needed):\n",
    "\n",
    "# Consider the following list of lists: nlist = [ [1, 2, 3], [‘A’, ‘B’, ‘C’], [4, 5], [‘D’, ‘E’] ]. Extract each individual element of the component lists contained within nlist and add them to a new list.  Do NOT use a nested for loop, use a list comprehension.\n",
    "\n",
    "nlist = [ [1, 2, 3], ['A', 'B', 'C'], [4, 5], ['D', 'E'] ]\n",
    "newList = [item for i in nlist for item in i]\n",
    "print(newList)"
   ]
  },
  {
   "cell_type": "code",
   "execution_count": 75,
   "id": "0ff131a3",
   "metadata": {},
   "outputs": [],
   "source": [
    "doc.save(\"ca}rs-sample.docx\")"
   ]
  },
  {
   "cell_type": "code",
   "execution_count": null,
   "id": "d81a9ebd",
   "metadata": {},
   "outputs": [],
   "source": []
  }
 ],
 "metadata": {
  "kernelspec": {
   "display_name": "Python 3",
   "language": "python",
   "name": "python3"
  },
  "language_info": {
   "codemirror_mode": {
    "name": "ipython",
    "version": 3
   },
   "file_extension": ".py",
   "mimetype": "text/x-python",
   "name": "python",
   "nbconvert_exporter": "python",
   "pygments_lexer": "ipython3",
   "version": "3.8.8"
  }
 },
 "nbformat": 4,
 "nbformat_minor": 5
}
