{
 "cells": [
  {
   "cell_type": "code",
   "execution_count": 3,
   "id": "b2f471f5",
   "metadata": {},
   "outputs": [],
   "source": [
    "import re"
   ]
  },
  {
   "cell_type": "code",
   "execution_count": 4,
   "id": "f4272dd8",
   "metadata": {},
   "outputs": [],
   "source": [
    "data = \"555-1239Dr. Bernard Lander(636) 555-0113Hollingdorp, Donnatella555-6542Fitzgerald, F. Sco\\\n",
    "tt555 8904Rev. Martin Luther King636-555-3226Snodgrass, Theodore5553642Carlamina Scarfoni\""
   ]
  },
  {
   "cell_type": "code",
   "execution_count": 7,
   "id": "aa558a3a",
   "metadata": {},
   "outputs": [
    {
     "name": "stdout",
     "output_type": "stream",
     "text": [
      "['555-1239', '(636) 555-0113', '555-6542', '555 8904', '636-555-3226', '5553642']\n"
     ]
    }
   ],
   "source": [
    "#1 numbers\n",
    "numbers = re.findall(r'\\(?\\d{3}\\)?[- ]?\\d{3}[- ]?\\d{4}|\\d{3}[- ]?\\d{4}', data)\n",
    "print(numbers)"
   ]
  },
  {
   "cell_type": "code",
   "execution_count": 9,
   "id": "661daaa9",
   "metadata": {},
   "outputs": [
    {
     "name": "stdout",
     "output_type": "stream",
     "text": [
      "['Dr. Bernard', ' LanderHollingdorp', ' DonnatellaFitzgerald', ' F. ScottRev', ' Martin', ' Luther', ' KingSnodgrass', ' TheodoreCarlamina', ' Scarfoni']\n"
     ]
    }
   ],
   "source": [
    "# 2. Names\n",
    "names = re.sub(r'\\(?\\d{3}\\)?[- ]?\\d{3}[- ]?\\d{4}|\\d{3}[- ]?\\d{4}', '', data)\n",
    "split_names = re.findall(r'(?:Dr\\.|Rev\\.)?\\s?[A-Z][\\w\\.,\\s]+?[A-Za-z]+', names)\n",
    "print(split_names)"
   ]
  },
  {
   "cell_type": "code",
   "execution_count": 13,
   "id": "289196d7",
   "metadata": {},
   "outputs": [
    {
     "name": "stdout",
     "output_type": "stream",
     "text": [
      "['Dr. Bernard', 'LanderHollingdorp', 'DonnatellaFitzgerald', 'F. ScottRev', 'Martin', 'Luther', 'KingSnodgrass', 'TheodoreCarlamina', 'Scarfoni']\n"
     ]
    }
   ],
   "source": [
    "# 3. Rearrange the vector so that all elements conform to the standard “firstname lastname”, preserving any titles (e.g., “Rev.”, “Dr.”, etc) or middle/second names\n",
    "def reformat_name(name):\n",
    "    return re.sub(r'^([\\w\\-]+),\\s*(.+)', r'\\2 \\1', name).strip()\n",
    "\n",
    "normalized_names = [reformat_name(name) for name in split_names]\n",
    "print(normalized_names)"
   ]
  },
  {
   "cell_type": "code",
   "execution_count": 14,
   "id": "b3be213b",
   "metadata": {},
   "outputs": [
    {
     "name": "stdout",
     "output_type": "stream",
     "text": [
      "[True, False, False, False, False, False, False, False, False]\n"
     ]
    }
   ],
   "source": [
    "#4\n",
    "has_title = [bool(re.match(r'^(Dr\\.|Rev\\.)', name)) for name in normalized_names]\n",
    "print(has_title)"
   ]
  },
  {
   "cell_type": "code",
   "execution_count": 15,
   "id": "97b00162",
   "metadata": {},
   "outputs": [
    {
     "name": "stdout",
     "output_type": "stream",
     "text": [
      "[False, False, False, False, False, False, False, False, False]\n"
     ]
    }
   ],
   "source": [
    "#5\n",
    "def has_middle(name):\n",
    "    parts = name.split()\n",
    "    if parts[0] in ['Dr.', 'Rev.']:\n",
    "        parts = parts[1:]\n",
    "    return len(parts) >= 3\n",
    "\n",
    "middle_name_flags = [has_middle(name) for name in normalized_names]\n",
    "print(middle_name_flags)"
   ]
  },
  {
   "cell_type": "code",
   "execution_count": 16,
   "id": "15eb9e68",
   "metadata": {},
   "outputs": [
    {
     "data": {
      "text/plain": [
       "['<title>+++BREAKING NEWS+++<title>']"
      ]
     },
     "execution_count": 16,
     "metadata": {},
     "output_type": "execute_result"
    }
   ],
   "source": [
    "#6\n",
    "html = \"<title>+++BREAKING NEWS+++<title>\"\n",
    "re.findall(r'<.+>', html)"
   ]
  },
  {
   "cell_type": "code",
   "execution_count": 21,
   "id": "0dc6b3be",
   "metadata": {},
   "outputs": [
    {
     "name": "stdout",
     "output_type": "stream",
     "text": [
      "['-', '^', '^', '-', '^']\n"
     ]
    }
   ],
   "source": [
    "#7. \n",
    "equation = \"(5-3)^2=5^2-2*5*3+3^2\"\n",
    "nw = re.findall(r'[^0-9=+*()]+', equation)\n",
    "\n",
    "#explanation it fails because the string doesnt have any string so it matches with the parts that dont have that negation\n",
    "print(nw)"
   ]
  },
  {
   "cell_type": "code",
   "execution_count": null,
   "id": "a876028e",
   "metadata": {},
   "outputs": [],
   "source": []
  }
 ],
 "metadata": {
  "kernelspec": {
   "display_name": "Python 3",
   "language": "python",
   "name": "python3"
  },
  "language_info": {
   "codemirror_mode": {
    "name": "ipython",
    "version": 3
   },
   "file_extension": ".py",
   "mimetype": "text/x-python",
   "name": "python",
   "nbconvert_exporter": "python",
   "pygments_lexer": "ipython3",
   "version": "3.8.8"
  }
 },
 "nbformat": 4,
 "nbformat_minor": 5
}
