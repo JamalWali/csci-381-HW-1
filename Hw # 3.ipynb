{
 "cells": [
  {
   "cell_type": "code",
   "execution_count": 1,
   "id": "725c9a85",
   "metadata": {},
   "outputs": [],
   "source": [
    "import numpy as np"
   ]
  },
  {
   "cell_type": "code",
   "execution_count": 2,
   "id": "09d7e5a4",
   "metadata": {},
   "outputs": [
    {
     "name": "stdout",
     "output_type": "stream",
     "text": [
      "Distinct common items: [2 4]\n"
     ]
    }
   ],
   "source": [
    "# problem 1\n",
    "a = np.array([1, 2, 3, 2, 3, 4, 3, 4, 5, 6])\n",
    "b = np.array([7, 2, 10, 2, 7, 4, 9, 4, 9, 8])\n",
    "common = np.intersect1d(a, b)\n",
    "print(\"Distinct common items:\", common)"
   ]
  },
  {
   "cell_type": "code",
   "execution_count": 3,
   "id": "a699d732",
   "metadata": {},
   "outputs": [
    {
     "name": "stdout",
     "output_type": "stream",
     "text": [
      "[[ 1  6 11]\n",
      " [ 2  7 12]\n",
      " [ 3  8 13]\n",
      " [ 4  9 14]\n",
      " [ 5 10 15]]\n"
     ]
    }
   ],
   "source": [
    "# problem 2\n",
    "array = np.arange(1, 16).reshape(5, 3, order='F')\n",
    "print(array)"
   ]
  },
  {
   "cell_type": "code",
   "execution_count": 4,
   "id": "1527e477",
   "metadata": {},
   "outputs": [
    {
     "name": "stdout",
     "output_type": "stream",
     "text": [
      "[ 1  2  3  4  5  6  7  8  9 10 11 12 13 14 15]\n"
     ]
    }
   ],
   "source": [
    "#problem 3\n",
    "flattened = array.flatten(order='F')\n",
    "print(flattened)"
   ]
  },
  {
   "cell_type": "code",
   "execution_count": 7,
   "id": "a4cd5d95",
   "metadata": {},
   "outputs": [
    {
     "name": "stdout",
     "output_type": "stream",
     "text": [
      "(3, 5)\n",
      "[[ 1  2  3  4  5]\n",
      " [ 6  7  8  9 10]\n",
      " [11 12 13 14 15]]\n"
     ]
    }
   ],
   "source": [
    "# problem 4\n",
    "a_3d = np.stack([array[:, 0], array[:, 1], array[:, 2]], axis=0)\n",
    "print(a_3d.shape)\n",
    "print(a_3d)"
   ]
  },
  {
   "cell_type": "code",
   "execution_count": 9,
   "id": "34e6308f",
   "metadata": {},
   "outputs": [
    {
     "name": "stdout",
     "output_type": "stream",
     "text": [
      "[[ 1  6 11]\n",
      " [ 2  7 12]\n",
      " [ 3  8 13]\n",
      " [ 4  9 14]\n",
      " [ 5 10 15]]\n"
     ]
    }
   ],
   "source": [
    "# problem 5\n",
    "array_2d = a_3d.squeeze().T\n",
    "print(array_2d)"
   ]
  },
  {
   "cell_type": "code",
   "execution_count": 11,
   "id": "edd45868",
   "metadata": {},
   "outputs": [
    {
     "name": "stdout",
     "output_type": "stream",
     "text": [
      "[ 1  7  8 15]\n"
     ]
    }
   ],
   "source": [
    "#problem 6\n",
    "a = np.array([12, 5, 7, 15, 3, 1, 8])\n",
    "b = np.array([14, 6, 3, 11, 19, 12, 5])\n",
    "filtered_a = np.setdiff1d(a, b)\n",
    "print(filtered_a)"
   ]
  },
  {
   "cell_type": "code",
   "execution_count": 12,
   "id": "59df959b",
   "metadata": {},
   "outputs": [],
   "source": [
    "import pandas as pd\n",
    "df1 = pd.read_excel(\"Module6_Data.xlsx\")"
   ]
  },
  {
   "cell_type": "code",
   "execution_count": 13,
   "id": "6d9b943f",
   "metadata": {},
   "outputs": [
    {
     "name": "stdout",
     "output_type": "stream",
     "text": [
      "Maximum yearly NYC consumption (MGD): 1512.0\n"
     ]
    }
   ],
   "source": [
    "# 1\n",
    "max_consumption = df1[\"NYC Consumption(Million gallons per day)\"].max()\n",
    "print(\"Maximum yearly NYC consumption (MGD):\", max_consumption)"
   ]
  },
  {
   "cell_type": "code",
   "execution_count": 14,
   "id": "72e5ee20",
   "metadata": {},
   "outputs": [
    {
     "name": "stdout",
     "output_type": "stream",
     "text": [
      "Number of calendar years: 39\n"
     ]
    }
   ],
   "source": [
    "# 2.\n",
    "num_years = df1.shape[0]\n",
    "print(\"Number of calendar years:\", num_years)"
   ]
  },
  {
   "cell_type": "code",
   "execution_count": 15,
   "id": "7d7e4cbc",
   "metadata": {},
   "outputs": [
    {
     "name": "stdout",
     "output_type": "stream",
     "text": [
      "Mean per capita daily consumption: 160.30769230769232\n",
      "Standard deviation: 31.930973122258784\n"
     ]
    }
   ],
   "source": [
    "#3\n",
    "mean_per_capita = df1[\"Per Capita(Gallons per person per day)\"].mean()\n",
    "std_per_capita = df1[\"Per Capita(Gallons per person per day)\"].std()\n",
    "\n",
    "print(\"Mean per capita daily consumption:\", mean_per_capita)\n",
    "print(\"Standard deviation:\", std_per_capita)"
   ]
  },
  {
   "cell_type": "code",
   "execution_count": 16,
   "id": "b69d382d",
   "metadata": {},
   "outputs": [
    {
     "name": "stdout",
     "output_type": "stream",
     "text": [
      "Yearly population change:\n",
      " 1     -30461.0\n",
      "2      17602.0\n",
      "3      19864.0\n",
      "4      72119.0\n",
      "5      53290.0\n",
      "6      39540.0\n",
      "7      45192.0\n",
      "8      23230.0\n",
      "9      11243.0\n",
      "10     -9544.0\n",
      "11     -8525.0\n",
      "12     38851.0\n",
      "13     54443.0\n",
      "14     77222.0\n",
      "15     64292.0\n",
      "16     62582.0\n",
      "17     64772.0\n",
      "18     75631.0\n",
      "19     84816.0\n",
      "20     89401.0\n",
      "21     60618.0\n",
      "22     16685.5\n",
      "23     16685.5\n",
      "24     16685.5\n",
      "25     16685.5\n",
      "26     16685.5\n",
      "27     16685.5\n",
      "28     16685.5\n",
      "29     16685.5\n",
      "30     16685.5\n",
      "31     16685.5\n",
      "32    108965.0\n",
      "33     77081.0\n",
      "34     61281.0\n",
      "35     49530.0\n",
      "36     44512.0\n",
      "37     21171.0\n",
      "38     85025.0\n",
      "Name: New York City Population, dtype: float64\n"
     ]
    }
   ],
   "source": [
    "#4 \n",
    "pop_diff = df1[\"New York City Population\"].diff().dropna()\n",
    "print(\"Yearly population change:\\n\", pop_diff)"
   ]
  },
  {
   "cell_type": "code",
   "execution_count": null,
   "id": "27d131fe",
   "metadata": {},
   "outputs": [],
   "source": []
  }
 ],
 "metadata": {
  "kernelspec": {
   "display_name": "Python 3",
   "language": "python",
   "name": "python3"
  },
  "language_info": {
   "codemirror_mode": {
    "name": "ipython",
    "version": 3
   },
   "file_extension": ".py",
   "mimetype": "text/x-python",
   "name": "python",
   "nbconvert_exporter": "python",
   "pygments_lexer": "ipython3",
   "version": "3.8.8"
  }
 },
 "nbformat": 4,
 "nbformat_minor": 5
}
